{
 "cells": [
  {
   "cell_type": "markdown",
   "id": "de0d8805-50b9-4363-94e5-d21fd2e00662",
   "metadata": {},
   "source": [
    "# CA Time Series "
   ]
  },
  {
   "cell_type": "markdown",
   "id": "dae5cfe2-02ec-4160-96a9-a93280ed2345",
   "metadata": {},
   "source": [
    "All reports and code were made based on tutorials provided in class by Professor Noel Cosgrave"
   ]
  },
  {
   "cell_type": "code",
   "execution_count": 219,
   "id": "51025126-e360-4d5f-91c8-24a5b655c91b",
   "metadata": {},
   "outputs": [],
   "source": [
    "import pandas as pd\n",
    "import numpy as np\n",
    "from sklearn.metrics import mean_absolute_error, mean_squared_error, mean_absolute_percentage_error\n",
    "from sklearn.model_selection import train_test_split\n",
    "from statsmodels.tsa.stattools import adfuller\n",
    "from statsmodels.graphics.tsaplots import plot_acf, plot_pacf\n",
    "from pmdarima.arima import auto_arima\n",
    "from statsmodels.tsa.arima.model import ARIMA\n",
    "from statsmodels.stats.diagnostic import acorr_ljungbox\n",
    "from matplotlib import pyplot as plt"
   ]
  },
  {
   "cell_type": "code",
   "execution_count": 220,
   "id": "61b49b01-ccab-45b7-8793-3a5aea5c3e66",
   "metadata": {},
   "outputs": [],
   "source": [
    "#Importing the data\n",
    "ts6_data = pd.read_csv(\"ts6.csv\")"
   ]
  },
  {
   "cell_type": "markdown",
   "id": "4833eef2-7f5a-4d02-9438-f008cae6e2fb",
   "metadata": {},
   "source": [
    "Checking the 5 first rows of the dataset"
   ]
  },
  {
   "cell_type": "code",
   "execution_count": 222,
   "id": "af9ecd19-d5c2-4e0a-b3aa-1216cd296d83",
   "metadata": {},
   "outputs": [
    {
     "data": {
      "text/html": [
       "<div>\n",
       "<style scoped>\n",
       "    .dataframe tbody tr th:only-of-type {\n",
       "        vertical-align: middle;\n",
       "    }\n",
       "\n",
       "    .dataframe tbody tr th {\n",
       "        vertical-align: top;\n",
       "    }\n",
       "\n",
       "    .dataframe thead th {\n",
       "        text-align: right;\n",
       "    }\n",
       "</style>\n",
       "<table border=\"1\" class=\"dataframe\">\n",
       "  <thead>\n",
       "    <tr style=\"text-align: right;\">\n",
       "      <th></th>\n",
       "      <th>Unnamed: 0</th>\n",
       "      <th>x</th>\n",
       "    </tr>\n",
       "  </thead>\n",
       "  <tbody>\n",
       "    <tr>\n",
       "      <th>0</th>\n",
       "      <td>1</td>\n",
       "      <td>303.996674</td>\n",
       "    </tr>\n",
       "    <tr>\n",
       "      <th>1</th>\n",
       "      <td>2</td>\n",
       "      <td>302.869995</td>\n",
       "    </tr>\n",
       "    <tr>\n",
       "      <th>2</th>\n",
       "      <td>3</td>\n",
       "      <td>296.666656</td>\n",
       "    </tr>\n",
       "    <tr>\n",
       "      <th>3</th>\n",
       "      <td>4</td>\n",
       "      <td>289.913330</td>\n",
       "    </tr>\n",
       "    <tr>\n",
       "      <th>4</th>\n",
       "      <td>5</td>\n",
       "      <td>296.453339</td>\n",
       "    </tr>\n",
       "  </tbody>\n",
       "</table>\n",
       "</div>"
      ],
      "text/plain": [
       "   Unnamed: 0           x\n",
       "0           1  303.996674\n",
       "1           2  302.869995\n",
       "2           3  296.666656\n",
       "3           4  289.913330\n",
       "4           5  296.453339"
      ]
     },
     "execution_count": 222,
     "metadata": {},
     "output_type": "execute_result"
    }
   ],
   "source": [
    "ts6_data.head()"
   ]
  },
  {
   "cell_type": "code",
   "execution_count": 223,
   "id": "88d24bb9-b797-4cf4-a176-4bf86680211a",
   "metadata": {},
